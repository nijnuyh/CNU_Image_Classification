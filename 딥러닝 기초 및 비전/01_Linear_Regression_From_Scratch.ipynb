{
 "cells": [
  {
   "cell_type": "markdown",
   "metadata": {
    "id": "ZrC7QV0ibTc6"
   },
   "source": [
    "## <b>Linear Regression 바닥부터 구현</b>\n",
    "\n",
    "* Linear Regression을 Python만을 이용하여 구현합니다.\n",
    "* 학습 목적의 데이터 준비\n",
    "\n",
    "|하루 노동 시간| 하루 매출 |\n",
    "|:--------|:--------:|\n",
    "| 1 | 25,000 |\n",
    "| 2 | 55,000 |\n",
    "| 3 | 75,000 |\n",
    "| 4 | 110,000 |\n",
    "| 5 | 128,000 |\n",
    "| 6 | 155,000 |\n",
    "| 7 | 180,000 |\n",
    "\n",
    "* 목표: 하루 노동 시간이 8시간일 때 하루 매출은 얼마가 될까요?"
   ]
  },
  {
   "cell_type": "code",
   "execution_count": 1,
   "metadata": {
    "colab": {
     "base_uri": "https://localhost:8080/",
     "height": 282
    },
    "id": "Jkbzz_rsbSE3",
    "outputId": "a8714054-9c87-40b5-a980-f1a20a44703f"
   },
   "outputs": [
    {
     "data": {
      "text/plain": [
       "<matplotlib.collections.PathCollection at 0x16ac0976610>"
      ]
     },
     "execution_count": 1,
     "metadata": {},
     "output_type": "execute_result"
    },
    {
     "data": {
      "image/png": "[encoded data removed]",
      "text/plain": [
       "<Figure size 432x288 with 1 Axes>"
      ]
     },
     "metadata": {
      "needs_background": "light"
     },
     "output_type": "display_data"
    }
   ],
   "source": [
    "import matplotlib.pyplot as plt\n",
    "\n",
    "X = [1, 2, 3, 4, 5, 6, 7]\n",
    "Y = [25000, 55000, 75000, 110000, 128000, 155000, 180000]\n",
    "\n",
    "plt.plot(X, Y)\n",
    "plt.scatter(X, Y)"
   ]
  },
  {
   "cell_type": "markdown",
   "metadata": {
    "id": "oia_qWIrfzi8"
   },
   "source": [
    "### <b>가설 클래스 정의</b>\n",
    "\n",
    "* Forward: 모델이 입력을 받아 정방향으로(왼쪽에서 오른쪽으로) 계산해 결과를 출력하는 과정"
   ]
  },
  {
   "cell_type": "code",
   "execution_count": 2,
   "metadata": {
    "id": "aNW6Yi-sbT6Q"
   },
   "outputs": [],
   "source": [
    "# 가설 모델(학습 시킬 대상)\n",
    "class H():\n",
    "    def __init__(self, w):\n",
    "        self.w = w\n",
    "    # 결과를 반환하는 함수\n",
    "    def forward(self, x):\n",
    "        return self.w * x\n",
    "    # 가설의 비용을 구하는 함수(낮추어야 할 대상)\n",
    "    def get_cost(self, X, Y):\n",
    "        cost = 0\n",
    "        for i in range(len(X)):\n",
    "            cost += (self.forward(X[i]) - Y[i]) ** 2\n",
    "        cost = cost / len(X)\n",
    "        return cost\n",
    "    # 기울기를 계산하는 함수\n",
    "    def get_gradient(self, X, Y):\n",
    "        cost = self.get_cost(X, Y)\n",
    "        dw = 0.001\n",
    "        self.w = self.w + dw\n",
    "        next_cost = self.get_cost(X, Y)\n",
    "        self.w = self.w - dw\n",
    "        dcost = next_cost - cost\n",
    "        gradient = dcost / dw\n",
    "        return gradient, next_cost\n",
    "    # 미분으로 기울기를 계산하는 함수\n",
    "    def get_gradient_using_derivative(self, X, Y):\n",
    "        gradient= 0\n",
    "        for i in range(len(X)):\n",
    "            gradient += (h.forward(X[i]) - Y[i]) * X[i]\n",
    "        gradient = 2 * gradient / len(X)\n",
    "        cost = self.get_cost(X, Y)\n",
    "        return gradient, cost\n",
    "    # w 값을 변경하는 함수\n",
    "    def set_w(self, w):\n",
    "        self.w = w\n",
    "    # w 값을 반환하는 함수\n",
    "    def get_w(self):\n",
    "        return self.w"
   ]
  },
  {
   "cell_type": "markdown",
   "metadata": {
    "id": "f57E5pEIfxQE"
   },
   "source": [
    "### <b>가중치(W)에 따른 비용 확인</b>\n",
    "\n",
    "* Forward: 모델이 입력을 받아 정방향으로(왼쪽에서 오른쪽으로) 계산해 결과를 출력하는 과정"
   ]
  },
  {
   "cell_type": "code",
   "execution_count": 3,
   "metadata": {
    "colab": {
     "base_uri": "https://localhost:8080/",
     "height": 512
    },
    "id": "8QNJoZHxcx1K",
    "outputId": "eb53478b-dbaa-4f20-bb4c-272a86ad130c"
   },
   "outputs": [
    {
     "data": {
      "text/plain": [
       "<matplotlib.collections.PathCollection at 0x16ac0a3fcd0>"
      ]
     },
     "execution_count": 3,
     "metadata": {},
     "output_type": "execute_result"
    },
    {
     "data": {
      "image/png": "[encoded data removed]",
      "text/plain": [
       "<Figure size 576x576 with 1 Axes>"
      ]
     },
     "metadata": {
      "needs_background": "light"
     },
     "output_type": "display_data"
    }
   ],
   "source": [
    "cost_list = []\n",
    "w_list = []\n",
    "\n",
    "# w를 -300,000부터 300,000까지 바꾸어 보며 비용 확인\n",
    "for i in range(-300, 300):\n",
    "    w = i * 1000\n",
    "    h = H(w)\n",
    "    cost = h.get_cost(X, Y)\n",
    "    w_list.append(w)\n",
    "    cost_list.append(cost)\n",
    "\n",
    "# 결과적으로 약 25,000 정도일 때 최소 비용임을 확인\n",
    "plt.figure(figsize=(8, 8))\n",
    "plt.scatter(w_list, cost_list, s=10)"
   ]
  },
  {
   "cell_type": "markdown",
   "metadata": {
    "id": "V9z2RJUofs_k"
   },
   "source": [
    "### <b>학습 진행하기</b>\n",
    "\n",
    "* 기본적인 기울기 함수를 이용하여 학습을 진행합니다."
   ]
  },
  {
   "cell_type": "code",
   "execution_count": 4,
   "metadata": {
    "colab": {
     "base_uri": "https://localhost:8080/",
     "height": 439
    },
    "id": "_OE5YtQ5c51x",
    "outputId": "5f650904-6f3e-42d4-c519-1143d081a760"
   },
   "outputs": [
    {
     "name": "stdout",
     "output_type": "stream",
     "text": [
      "[ epoch: 0, cost: 13450707854.45 ]\n",
      "w = 1040.98, w_gradient = -1036982.84\n",
      "[ epoch: 100, cost: 12866409.33 ]\n",
      "w = 25508.71, w_gradient = -17494.23\n",
      "[ epoch: 200, cost: 9041904.97 ]\n",
      "w = 25921.49, w_gradient = -295.13\n",
      "[ epoch: 300, cost: 9040816.63 ]\n",
      "w = 25928.45, w_gradient = -4.98\n",
      "[ epoch: 400, cost: 9040816.33 ]\n",
      "w = 25928.57, w_gradient = -0.08\n",
      "[ epoch: 500, cost: 9040816.33 ]\n",
      "w = 25928.57, w_gradient = -0.00\n",
      "[ epoch: 600, cost: 9040816.33 ]\n",
      "w = 25928.57, w_gradient = -0.00\n",
      "[ epoch: 700, cost: 9040816.33 ]\n",
      "w = 25928.57, w_gradient = 0.00\n",
      "[ epoch: 800, cost: 9040816.33 ]\n",
      "w = 25928.57, w_gradient = 0.00\n",
      "[ epoch: 900, cost: 9040816.33 ]\n",
      "w = 25928.57, w_gradient = 0.00\n",
      "[ epoch: 1000, cost: 9040816.33 ]\n",
      "w = 25928.57, w_gradient = 0.00\n",
      "f(x) = 25928.57x\n",
      "예측값: [207428.57]\n"
     ]
    }
   ],
   "source": [
    "w = 4\n",
    "h = H(w)\n",
    "learning_rate = 0.001\n",
    "    \n",
    "for i in range(1001):\n",
    "    gradient, cost = h.get_gradient(X, Y)\n",
    "    h.set_w(h.get_w() + learning_rate * -gradient)\n",
    "    if i % 100 == 0:\n",
    "        print(\"[ epoch: %d, cost: %.2f ]\" % (i, cost))\n",
    "        print(\"w = %.2f, w_gradient = %.2f\" % (h.get_w(), gradient))\n",
    "        \n",
    "print(\"f(x) = %.2fx\" %(h.get_w()))\n",
    "print(\"예측값: [%.2f]\" %(h.forward(8)))"
   ]
  },
  {
   "cell_type": "markdown",
   "metadata": {
    "id": "RdXCLyWffnJc"
   },
   "source": [
    "* 편미분을 활용한 기울기 함수를 이용하여 학습해 봅시다."
   ]
  },
  {
   "cell_type": "code",
   "execution_count": 5,
   "metadata": {
    "colab": {
     "base_uri": "https://localhost:8080/",
     "height": 439
    },
    "id": "MbKhpDhldyR2",
    "outputId": "60362379-4417-4365-bd9f-4a4d82e10c46"
   },
   "outputs": [
    {
     "name": "stdout",
     "output_type": "stream",
     "text": [
      "[ epoch: 0, cost: 13450708891.43 ]\n",
      "w = 1040.98, w_gradient = -1036982.86\n",
      "[ epoch: 100, cost: 12866418.23 ]\n",
      "w = 25508.71, w_gradient = -17494.23\n",
      "[ epoch: 200, cost: 9041905.12 ]\n",
      "w = 25921.49, w_gradient = -295.13\n",
      "[ epoch: 300, cost: 9040816.64 ]\n",
      "w = 25928.45, w_gradient = -4.98\n",
      "[ epoch: 400, cost: 9040816.33 ]\n",
      "w = 25928.57, w_gradient = -0.08\n",
      "[ epoch: 500, cost: 9040816.33 ]\n",
      "w = 25928.57, w_gradient = -0.00\n",
      "[ epoch: 600, cost: 9040816.33 ]\n",
      "w = 25928.57, w_gradient = -0.00\n",
      "[ epoch: 700, cost: 9040816.33 ]\n",
      "w = 25928.57, w_gradient = -0.00\n",
      "[ epoch: 800, cost: 9040816.33 ]\n",
      "w = 25928.57, w_gradient = -0.00\n",
      "[ epoch: 900, cost: 9040816.33 ]\n",
      "w = 25928.57, w_gradient = -0.00\n",
      "[ epoch: 1000, cost: 9040816.33 ]\n",
      "w = 25928.57, w_gradient = -0.00\n",
      "f(x) = 25928.57x\n",
      "예측값: [207428.57]\n"
     ]
    }
   ],
   "source": [
    "w = 4\n",
    "h = H(w)\n",
    "learning_rate = 0.001\n",
    "    \n",
    "for i in range(1001):\n",
    "    gradient, cost = h.get_gradient_using_derivative(X, Y)\n",
    "    h.set_w(h.get_w() + learning_rate * -gradient)\n",
    "    if i % 100 == 0:\n",
    "        print(\"[ epoch: %d, cost: %.2f ]\" % (i, cost))\n",
    "        print(\"w = %.2f, w_gradient = %.2f\" % (h.get_w(), gradient))\n",
    "        \n",
    "print(\"f(x) = %.2fx\" %(h.get_w()))\n",
    "print(\"예측값: [%.2f]\" %(h.forward(8)))"
   ]
  },
  {
   "cell_type": "markdown",
   "metadata": {
    "id": "v2yk4XsOj_hh"
   },
   "source": [
    "### <b>학습 결과</b>"
   ]
  },
  {
   "cell_type": "code",
   "execution_count": 6,
   "metadata": {
    "colab": {
     "base_uri": "https://localhost:8080/",
     "height": 282
    },
    "id": "wvfP77g_BWZR",
    "outputId": "d184281b-2f69-4368-f348-62c34cfe3d8e"
   },
   "outputs": [
    {
     "data": {
      "text/plain": [
       "<matplotlib.collections.PathCollection at 0x16ac0bedac0>"
      ]
     },
     "execution_count": 6,
     "metadata": {},
     "output_type": "execute_result"
    },
    {
     "data": {
      "image/png": "[encoded data removed]",
      "text/plain": [
       "<Figure size 432x288 with 1 Axes>"
      ]
     },
     "metadata": {
      "needs_background": "light"
     },
     "output_type": "display_data"
    }
   ],
   "source": [
    "x_pred = [i for i in range(11)]\n",
    "y_pred = [h.get_w() * i for i in range(11)]\n",
    "plt.plot(x_pred, y_pred)\n",
    "plt.scatter(X, Y)"
   ]
  }
 ],
 "metadata": {
  "colab": {
   "collapsed_sections": [],
   "name": "Linear Regression 바닥부터 구현",
   "provenance": []
  },
  "kernelspec": {
   "display_name": "Python 3",
   "language": "python",
   "name": "python3"
  },
  "language_info": {
   "codemirror_mode": {
    "name": "ipython",
    "version": 3
   },
   "file_extension": ".py",
   "mimetype": "text/x-python",
   "name": "python",
   "nbconvert_exporter": "python",
   "pygments_lexer": "ipython3",
   "version": "3.8.3"
  }
 },
 "nbformat": 4,
 "nbformat_minor": 1
}
